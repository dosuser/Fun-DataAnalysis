{
 "cells": [
  {
   "cell_type": "markdown",
   "metadata": {},
   "source": [
    "# Time Series Forecasting (Exercise ver.)\n",
    "\n",
    "**scope**: \n",
    "- 시간에 대한 함수, 시간에 따른 변화에 주안,  인과 관계X\n",
    "- Data Wrangling for time-series in Python\n",
    "- self projecting(o), cause and effect(X)\n",
    "- uni-variate(o), multi-variate(x)\n",
    "- Time-series Basics; seasonality, trend, residual, statrionary/non-stationary process\n",
    "- Time-series forecasting using ARIMA (Box Jenkins Approach, ACF, PACF)\n",
    "\n",
    "**requirements**:\n",
    "- python 2.7 or 3\n",
    "- statsmodel 0.8.0   \n",
    "(**anaconda user** -> `conda install -c taugspurger statsmodels=0.8.0` 참고: https://anaconda.org/search?q=statsmodels%20   \n",
    "// **pip user** -> `pip install statsmodels==0.8.rc1` )\n",
    " \n",
    "- (Jupyter Kernel) (http://stackoverflow.com/questions/28831854/how-do-i-add-python3-kernel-to-jupyter-ipython)\n",
    "\n",
    "**reference**:   \n",
    "[1] [Seasonal ARIMA with Python](http://www.seanabu.com/2016/03/22/time-series-seasonal-ARIMA-model-in-python/)  \n",
    "[2] [A Complete Tutorial on Time Series Modeling in R](https://www.analyticsvidhya.com/blog/2015/12/complete-tutorial-time-series-modeling/)  \n",
    "[3] [A comprehensive beginner’s guide to create a Time Series Forecast (with Codes in Python)](https://www.analyticsvidhya.com/blog/2016/02/time-series-forecasting-codes-python/)  \n",
    "[4] [데이터 사이언스 스쿨/ 시계열 분석](https://www.datascienceschool.net/view-notebook/e0c935b3f55c4302b0fb0c93986562cd/)  \n",
    "[5] [시계열 데이터의 통계적 분석 방법](https://www.google.co.kr/url?sa=t&rct=j&q=&esrc=s&source=web&cd=1&ved=0ahUKEwjJkr3qqvDQAhVIyLwKHUgSDKoQFgggMAA&url=https%3A%2F%2Fbigdata.kookmin.ac.kr%2F%3Fmodule%3Dfile%26act%3DprocFileDownload%26file_srl%3D351%26sid%3D43ea21693d9f550e5e39869d5ce52adc&usg=AFQjCNFeXfnfSgzHQHDP85VZTBUvi4wy0Q&sig2=uZvEKrxxd_rr4Gv4lOB7Yw)\n",
    "\n",
    "\n"
   ]
  },
  {
   "cell_type": "markdown",
   "metadata": {},
   "source": [
    "## 1. 시계열 데이터 이해\n",
    "\n",
    "시계열 데이터 분석을 위해서는 기본적으로 시계열 데이터의 요소 및 정상/비정상 과정에 대한 이해가 필요하다.\n",
    "\n",
    "![](figure/TS_pattern.png)\n",
    "*(출처: [5])*\n",
    "\n",
    "### 1.1. 시계열 데이터 요소 \n",
    "\n",
    "- **추세(Trend)**: 장기적으로 나타나는 변동 패턴\n",
    "- **계절성(Seasonal)**: 주,월,분기,반기 단위 등 이미 알려진 시간의 주기로 나타나는 패턴 \n",
    "- **주기(Cyclic)**: 최소 2 년 단위로 나타나는 고정된 기간이 아닌 장기적인 변동\n",
    "- **랜덤요소 (random/residual/remainder)**\n",
    "\n",
    "![](https://anomaly.io/wp-content/uploads/2015/12/time-series-decomposition-seasonal-trend.png)\n",
    "\n",
    "![](https://anomaly.io/wp-content/uploads/2015/12/multiplicative-decompose.png)\n",
    "\n"
   ]
  },
  {
   "cell_type": "markdown",
   "metadata": {},
   "source": [
    "### 1.2. 정상 및 비정상 과정 모형 Staionary & Non-Stationary \n",
    "\n",
    "\n",
    "일반적으로 시계열 분석의 용이성을 위해 아래와 같이 비정상과정 모형(𝑌 )에 따르는 시계열 데이터 \"\n",
    "또한 추정 가능한 결정론적 추세함수 ($𝑓_{t}$ , trend) 와 확률 정상과정($ 𝑋_{t} $)의 합으로 가정하고 분석한다.\n",
    "\n",
    "$$\\begin{align*} & y_{t}\\sim f_{\\left( t\\right) }+X_{t}\\end{align*} $$\n",
    "\n",
    "따라서 시계열 데이터 분석에서 정상과정 모형의 특성 및 분석방법들을 이해하는 것이 우선적으로 요구된다. 다음은 정상 시계열 모형과 비정상 시계열 모형의 특징 비교이다.\n",
    "\n",
    "[상세설명 참고](https://www.datascienceschool.net/view-notebook/0ddd47967585403ab8b4cb60d0e420f6/)\n",
    "\n",
    "** i.시간 추이에 따른 평균값의 불변여부**  \n",
    "정상과정 - 평균은 시간에 따라 변화하는 함수가 아니다.;일정한 평균 else 비정상과정\n",
    "\n",
    "$$ E(y_{t}) = \\mu $$\n",
    "\n",
    "![](https://www.analyticsvidhya.com/wp-content/uploads/2015/02/Mean_nonstationary.png)\n",
    "\n",
    "** ii.시간추이에 따른 분산의 불변여부**  \n",
    "정상과정 - 분산은 시간에 따라 변화하는 함수가 아니다.;일정한 분산  else 비정상과정\n",
    "\n",
    "$$ var(y_{t}) = \\sigma^{2} $$\n",
    "\n",
    "\n",
    "![](https://www.analyticsvidhya.com/wp-content/uploads/2015/02/Var_nonstationary.png)\n",
    "\n",
    "**C.시점간의 공분산**  \n",
    "공분산은 t가 아닌 s에 의존함\n",
    "$$ cov(y_{t}, y_{t+s}) = cov(y_{t}, y_{t-s}) = \\gamma_{s} $$\n",
    "$$ cov(X,Y) = E((X-\\mu)(Y-\\upsilon))  $$\n",
    "\n",
    "![](https://www.analyticsvidhya.com/wp-content/uploads/2015/02/Cov_nonstationary.png)\n",
    "\n",
    "\n",
    "본 장에서 소개하는 통계적 시계열 추정 모형들은 시계열 데이터를 정상화시킨 모형 위에서 설계되어 있으므로, 필수적으로 데이터를 정상화 시키는 과정이 필요하다.  "
   ]
  },
  {
   "cell_type": "markdown",
   "metadata": {},
   "source": [
    "## 2. 시계열 데이터 분석 Framework\n",
    "\n",
    "일반적으로 아래와 같은 방법으로 시계열 데이터 분석을 진행한다.  \n",
    "![](https://www.analyticsvidhya.com/wp-content/uploads/2015/02/flowchart.png)\n",
    "\n",
    "또는 [링크: 확률 과정 모형을 추정하는 방법](https://www.datascienceschool.net/view-notebook/e4b52228ac5749418d51409fdc4f9cef/)와 같은 절차를 통해 확률모형을 추정할 수 있다."
   ]
  },
  {
   "cell_type": "markdown",
   "metadata": {},
   "source": [
    "### 2.0 Pandas 기초\n",
    "\n",
    "본 절은 [6]Python for Finance 의 내용을 기초로 함.  \n",
    "[참고: pandas cheat sheet](https://s3.amazonaws.com/quandl-static-content/Documents/Quandl+-+Pandas,+SciPy,+NumPy+Cheat+Sheet.pdf)"
   ]
  },
  {
   "cell_type": "code",
   "execution_count": null,
   "metadata": {
    "collapsed": true
   },
   "outputs": [],
   "source": [
    "%matplotlib inline"
   ]
  },
  {
   "cell_type": "code",
   "execution_count": null,
   "metadata": {
    "collapsed": true
   },
   "outputs": [],
   "source": [
    "import pandas as pd\n",
    "import numpy as np"
   ]
  },
  {
   "cell_type": "code",
   "execution_count": null,
   "metadata": {
    "collapsed": false
   },
   "outputs": [],
   "source": [
    "# create a vector with random numbers\n",
    "a = np.random.standard_normal((9,4))\n",
    "print ('>>> a=\\n',a.round(6))\n",
    "\n",
    "# create dataframe\n",
    "fun_df = pd.DataFrame(a)\n",
    "print ('>>> fun_df=\\n',fun_df)\n",
    "\n",
    "# create DatetimeIndex objects\n",
    "dates = pd.date_range('2016-1-1',periods=9,freq='M')\n",
    "print ('>>> dates=\\n',dates)\n",
    "\n",
    "# set index of df with 'dates'\n",
    "fun_df.index = dates\n",
    "print ('>>> fun_df.index=\\n',fun_df)"
   ]
  },
  {
   "cell_type": "markdown",
   "metadata": {},
   "source": [
    "** Basic methods: **"
   ]
  },
  {
   "cell_type": "code",
   "execution_count": null,
   "metadata": {
    "collapsed": true
   },
   "outputs": [],
   "source": [
    "# index values\n",
    "fun_df.index\n",
    "\n",
    "# columns \n",
    "fun_df.columns\n",
    "\n",
    "# select via index\n",
    "fun_df.ix['2016-02-29'] \n",
    "fun_df.ix[fun_df.index[1:3]]\n",
    "fun_df[1:3]"
   ]
  },
  {
   "cell_type": "markdown",
   "metadata": {},
   "source": [
    "** LAMBDA func, apply()** - [lambda - 참고](https://wikidocs.net/64), [apply - 참고](http://chrisalbon.com/python/pandas_apply_operations_to_dataframes.html)\n",
    "\n",
    "![](http://nbviewer.jupyter.org/github/h3imdallr/TIL-datascience/blob/master/ipynb_gitHub/images/non-builtin.png)"
   ]
  },
  {
   "cell_type": "code",
   "execution_count": null,
   "metadata": {
    "collapsed": false
   },
   "outputs": [],
   "source": [
    "# apply()\n",
    "fun_df.apply(lambda x: x**2)"
   ]
  },
  {
   "cell_type": "code",
   "execution_count": null,
   "metadata": {
    "collapsed": false
   },
   "outputs": [],
   "source": [
    "# insert another column (dimension expansion)\n",
    "fun_df['new'] = np.zeros(9)\n",
    "fun_df"
   ]
  },
  {
   "cell_type": "code",
   "execution_count": null,
   "metadata": {
    "collapsed": false
   },
   "outputs": [],
   "source": [
    "fun_df.columns = ['A','B','C','D','E']\n",
    "\n",
    "# sum\n",
    "fun_df.sum()\n",
    "fun_df.cumsum()\n",
    "\n",
    "# mean\n",
    "fun_df.mean()\n",
    "\n",
    "# std\n",
    "fun_df.std()\n",
    "\n",
    "# numpy universal functions\n",
    "np.sqrt(fun_df)\n",
    "\n",
    "# general stats\n",
    "fun_df.describe()"
   ]
  },
  {
   "cell_type": "code",
   "execution_count": null,
   "metadata": {
    "collapsed": true
   },
   "outputs": [],
   "source": [
    "fun_df.plot()\n",
    "# plt.plot(fun_df)"
   ]
  },
  {
   "cell_type": "markdown",
   "metadata": {},
   "source": [
    "** Groupby Operations **  \n",
    "\n",
    "SQL의 group select , 엑셀의 pivot table과 비슷한 기능"
   ]
  },
  {
   "cell_type": "code",
   "execution_count": null,
   "metadata": {
    "collapsed": false
   },
   "outputs": [],
   "source": [
    "fun_df['Quarter'] = ['Q1','Q1','Q1','Q2','Q2','Q2','Q3','Q3','Q3']\n",
    "fun_df"
   ]
  },
  {
   "cell_type": "code",
   "execution_count": null,
   "metadata": {
    "collapsed": false
   },
   "outputs": [],
   "source": [
    "groups = fun_df.groupby('Quarter')\n",
    "groups #groupby 객체임"
   ]
  },
  {
   "cell_type": "code",
   "execution_count": null,
   "metadata": {
    "collapsed": false
   },
   "outputs": [],
   "source": [
    "groups.mean()\n",
    "groups.max()\n",
    "groups.size()"
   ]
  },
  {
   "cell_type": "markdown",
   "metadata": {},
   "source": [
    "두개의 열을 동시에 기준으로 하는 그룹 지정도 가능"
   ]
  },
  {
   "cell_type": "code",
   "execution_count": null,
   "metadata": {
    "collapsed": false
   },
   "outputs": [],
   "source": [
    "fun_df['Odd_Even'] = ['Odd','Even','Odd','Even','Odd','Even','Odd','Even','Odd']\n",
    "fun_df"
   ]
  },
  {
   "cell_type": "code",
   "execution_count": null,
   "metadata": {
    "collapsed": false
   },
   "outputs": [],
   "source": [
    "groups = fun_df.groupby(['Quarter','Odd_Even'])\n",
    "groups.size()\n",
    "groups.mean()"
   ]
  },
  {
   "cell_type": "markdown",
   "metadata": {},
   "source": [
    "### 2.1 EDA; 시계열 데이터 확인하기"
   ]
  },
  {
   "cell_type": "code",
   "execution_count": null,
   "metadata": {
    "collapsed": true
   },
   "outputs": [],
   "source": [
    "import datetime\n",
    "from dateutil.relativedelta import relativedelta\n",
    "\n",
    "import matplotlib.pyplot as plt\n",
    "import seaborn as sns\n",
    "\n",
    "import statsmodels\n",
    "import statsmodels.api as sm  \n",
    "from statsmodels.tsa.stattools import acf  \n",
    "from statsmodels.tsa.stattools import pacf\n",
    "from statsmodels.tsa.seasonal import seasonal_decompose"
   ]
  },
  {
   "cell_type": "markdown",
   "metadata": {},
   "source": [
    "* __Wrangling__: \n",
    "dropna, column name, DF slicing, date_range, type conversion"
   ]
  },
  {
   "cell_type": "code",
   "execution_count": null,
   "metadata": {
    "collapsed": false
   },
   "outputs": [],
   "source": [
    "# (task 2.1-1) : data/data/portland-oregon-average-monthly.csv 파일 불러오기 & 'Month' 행을 index로 설정 (hint: pandas read_csv())\n",
    "df = \n",
    "#preprocessing\n",
    "# (task 2.1-2): dataframe에서 NaN(not a number) 제거하기\n",
    "# (task 2.1-3): column 이름 'ridership'으로 변경\n",
    "# (task 2.1-4): dataframe 제일 마지막행 제거하기\n",
    "# 확인\n",
    "print(df.tail())"
   ]
  },
  {
   "cell_type": "code",
   "execution_count": null,
   "metadata": {
    "collapsed": false
   },
   "outputs": [],
   "source": [
    "# (task 2.1-5): dataframe 시각화 \n",
    "# ERROR --> index type should be 'datetime'"
   ]
  },
  {
   "cell_type": "markdown",
   "metadata": {},
   "source": [
    "* change df.index as datetime object:"
   ]
  },
  {
   "cell_type": "code",
   "execution_count": null,
   "metadata": {
    "collapsed": false
   },
   "outputs": [],
   "source": [
    "# (task 2.1-6): datetime 객체로 index 변경하기\n",
    "# OPTION(1)\n",
    "# OPTION(2)\n",
    "\n",
    "# 확인: \n",
    "type(df.index)"
   ]
  },
  {
   "cell_type": "code",
   "execution_count": null,
   "metadata": {
    "collapsed": false
   },
   "outputs": [],
   "source": [
    "# (task 2.1-7): DF time slicing- 1960/3/1 ~ 1961/7/1 일에 해당하는 dataframe 추출하기"
   ]
  },
  {
   "cell_type": "markdown",
   "metadata": {},
   "source": [
    "* change type of dataframe's column"
   ]
  },
  {
   "cell_type": "code",
   "execution_count": null,
   "metadata": {
    "collapsed": false
   },
   "outputs": [],
   "source": [
    "# (task 2.1-8): df 의 'ridership' 행을 int 타입으로 변경하기\n",
    "# OPTION(1)\n",
    "# OPTION(2) lambda, apply \n",
    "\n",
    "# 확인: \n",
    "df.dtypes"
   ]
  },
  {
   "cell_type": "code",
   "execution_count": null,
   "metadata": {
    "collapsed": false
   },
   "outputs": [],
   "source": [
    "# (task 2.1-9): dataframe 시각화 ( again )"
   ]
  },
  {
   "cell_type": "markdown",
   "metadata": {},
   "source": [
    "#### Seasonal Decomposition (STL)\n",
    "\n",
    "남은 residual value를 추출함으로써, time-independent한 time-series를 뽑음"
   ]
  },
  {
   "cell_type": "code",
   "execution_count": null,
   "metadata": {
    "collapsed": false
   },
   "outputs": [],
   "source": [
    "# (task 2.1 - 10): seasonal_decompose\n",
    "decomposition = seasonal_decompose(df['ridership'], freq=12)  \n",
    "fig = plt.figure()  \n",
    "fig = decomposition.plot()"
   ]
  },
  {
   "cell_type": "markdown",
   "metadata": {},
   "source": [
    "Seasonal Trend Decomposition (STL) 활용:\n",
    "- Anomaly Deteciton (residual활용)\n",
    "- Stationarize \n",
    "- 시계열 패턴 비교 (예시, 아래)\n",
    "\n",
    "![](figure/STL_example.png)"
   ]
  },
  {
   "cell_type": "markdown",
   "metadata": {},
   "source": [
    "### 2.2 시계열 데이터 정상화 하기\n",
    "\n",
    "### 정상성 확인 stationarity check\n",
    "일반적으로 데이터가 stationary한 경우는 거의 없음. \n",
    "정상성을 Test하기 위해서 두가지 방법 사용   \n",
    "\n",
    "**(1) 눈으로 직관적 확인 ~ STL, Rolling statistics(moving average)    \n",
    "(2) Dickey-FUller test [링크](https://www.datascienceschool.net/view-notebook/ebb638fc880145b9adeef8dfa630f067/)  **\n",
    "\n",
    "아래는  Dickey-Fuller test 와 더불어  trend를 추출하는 방법중 하나인 rolling statistics를 이용해서 동시에 정상성을 검사하는 방법이다"
   ]
  },
  {
   "cell_type": "code",
   "execution_count": null,
   "metadata": {
    "collapsed": false
   },
   "outputs": [],
   "source": [
    "from statsmodels.tsa.stattools import adfuller\n",
    "def test_stationarity(timeseries):\n",
    "\n",
    "    #Determing rolling statistics\n",
    "    rolmean = pd.rolling_mean(timeseries, window=12)\n",
    "    rolstd = pd.rolling_std(timeseries, window=12)\n",
    "\n",
    "    #Plot rolling statistics:\n",
    "    fig = plt.figure(figsize=(10, 6))\n",
    "    orig = plt.plot(timeseries, color='blue',label='Original')\n",
    "    mean = plt.plot(rolmean, color='red', label='Rolling Mean')\n",
    "    std = plt.plot(rolstd, color='black', label = 'Rolling Std')\n",
    "\n",
    "    plt.legend(loc='best'); plt.title('Rolling Mean & Standard Deviation')\n",
    "    plt.show()\n",
    "    \n",
    "    #Perform Dickey-Fuller test:\n",
    "    print ('<Results of Dickey-Fuller Test>')\n",
    "    dftest = adfuller(timeseries, autolag='AIC')\n",
    "    dfoutput = pd.Series(dftest[0:4],\n",
    "                         index=['Test Statistic','p-value','#Lags Used','Number of Observations Used'])\n",
    "    for key,value in dftest[4].items():\n",
    "        dfoutput['Critical Value (%s)'%key] = value\n",
    "    print (dfoutput) "
   ]
  },
  {
   "cell_type": "code",
   "execution_count": null,
   "metadata": {
    "collapsed": false
   },
   "outputs": [],
   "source": [
    "# (task 2.2 - 1): 정상성 체크 (hint: test_stationarity())"
   ]
  },
  {
   "cell_type": "markdown",
   "metadata": {},
   "source": [
    "* Judgment:   \n",
    "(null-hypothesis: TS is non-stationary)  \n",
    "p-value < 0.05: reject null-hypothesis --> Stationary  \n",
    "p-value > 0.05: accept --> non-Stationary  "
   ]
  },
  {
   "cell_type": "markdown",
   "metadata": {},
   "source": [
    "### 정상화 Stationarize\n",
    "\n",
    "비정상 확률과정을 정상 확률 과정으로 변환하는 방법은 여러가지 [[1]](http://people.duke.edu/~rnau/whatuse.htm), [[2]](https://www.datascienceschool.net/view-notebook/3f485c426a4b49fc9de95a02137ca6b4/)가 있으며, 주어진 데이터에 따라 가장 효율적인 방법이 다르거나 혼합하여 사용한다. (상세내용 링크참조)\n",
    "여기서는 짧게 세가지에 대해서 소개한다. \n",
    "- **차분(differencing)**: 1차차분. Trend 제거하는데 용이 $\\Delta y_{t} = y_{t} - y_{t-1}$\n",
    "- **로그변환(lograithm)**: 표준편차가 자료의 크기에 비례하여 증가할때\n",
    "- **Box-Cox 변환**: 정규분포가 아닌 자료를 정규분포로 변환. \n",
    "\n",
    "\n",
    "여기서는 차분을 이용하여 정상화를 한다.\n",
    "\n"
   ]
  },
  {
   "cell_type": "code",
   "execution_count": null,
   "metadata": {
    "collapsed": false
   },
   "outputs": [],
   "source": [
    "# (task 2.2 - 1): 차분하기 ; y_{t}-y_{t-1}; \n",
    "# OPTION1 - hint: shift()\n",
    "# OPTION2 - hint: diff()\n",
    "\n",
    "df['first_difference'] = ~~~ \n",
    "test_stationarity(df.first_difference.dropna(inplace=False))"
   ]
  },
  {
   "cell_type": "markdown",
   "metadata": {},
   "source": [
    "좀더 나은 수준의 정상화를 위해, 도한 seasonal 패턴을 좀더 명확히 보고 싶고, long-term에서도 잘 남아있게 하기 위해서 seasonaly differencing 을 적용한다."
   ]
  },
  {
   "cell_type": "code",
   "execution_count": null,
   "metadata": {
    "collapsed": false,
    "scrolled": true
   },
   "outputs": [],
   "source": [
    "df['seasonal_first_difference'] = df['first_difference'] - df['first_difference'].shift(12)  \n",
    "test_stationarity(df.seasonal_first_difference.dropna(inplace=False))\n",
    "\n",
    "# Else: \n",
    "# df['log_first_difference'] = df.riders_log - df.riders_log.shift(1)\n",
    "# df['seasonal_difference'] = df.riders - df.riders.shift(12)  \n",
    "# df['log_seasonal_difference'] = df.riders_log - df.riders_log.shift(12) \n",
    "# df['log_seasonal_first_difference'] = df.log_first_difference - df.log_first_difference.shift(12)"
   ]
  },
  {
   "cell_type": "markdown",
   "metadata": {},
   "source": [
    "p-value가 더 높아진 점에서 seasonal first difference를 통해 최종적으로 data를 정상화 시켰다고 판단한다.추가적으로 로그변환(`df[~] = np.log(df[~])`)도 할 수 있으나, 본 경우에서는 분석후 크게 나아지지 않았다.\n",
    "또한 추가로 추세를 추정하여 제거하는 기법[(링크: 결정론적 추세/다항식 추세/ 계절성 추세 추정)](https://www.datascienceschool.net/view-notebook/240b62a8927043c79b5384536e42f99d/)들이 있으나, 충분히 정상화 되었다고 판단하고 본 분석에서는 소개하지 않는다."
   ]
  },
  {
   "cell_type": "markdown",
   "metadata": {},
   "source": [
    " ### 2.3 모수추정;  최적 파라미터(모형차수) 도출\n",
    "\n",
    "### ARIMA 모델의 개념\n",
    "\n",
    "- 출처: [데이터 사이언스 스쿨](https://www.datascienceschool.net/view-notebook/d5226389a8414583a45fb47e1e1cf6fb/)\n",
    "\n",
    "** a. 정상과정 확률 모형(1/2) - General Linear Process Model **  \n",
    "정상확률 과정에서 가장 일반적으로 사용되는 모형은 일반선형 확률 과정 모형(General Linear Process Model)이다. 해당 모형은 시계열이 [가우시안 백색잡음](https://www.datascienceschool.net/view-notebook/6b963e771dc54f8c8cb23437274a86d6/) ($e_{t}$)의 현재값과 과거값들의 선형조합으로 이루어져 있다고 가정. $\\psi $ 는 가중계수(weight coefficient). \n",
    "\n",
    "$$ Y_t = e_t + \\psi_1 e_{t-1}  + \\psi_2 e_{t-2}  + \\psi_1 e_{t-3}  + \\cdots $$\n",
    "\n",
    "위 모형의 블럭 다이어그램은 다음과 같다.\n",
    "\n",
    "![](figure/glpm.png)\n",
    "\n",
    "** b. 정상과정 확률 모형 (2/2) MA, AR, ARMA **\n",
    "\n",
    "일반 선형 확률 과정 모형은 계수의 특성에 따라 다음과 같은 하위 모형으로 분류된다.\n",
    "\n",
    "- **MA (Moving Average) 모형**: 백색 잡음의 현재 값과 과거 값 중 유한(finite)개의 값에 대한 선형 가중합(linear weighted summation)으로 나타나는 확률 과정.q차수에 대해서 MA(q)로 표기  \n",
    "\n",
    "$$ Y_t = e_t - \\theta_1 e_{t-1}  - \\theta_2 e_{t-2} - \\cdots - \\theta_q e_{t-q} $$\n",
    "![](figure/ma.png)\n",
    "\n",
    "- **AR (Auto-Regressive) 모형**: 자기 자신의 과거값에 의존적인 모형. 백색 잡음의 현재값과 자기 자신의 과거값의 선형 가중합으로 이루어진 정상 확률 모형. p차수의 AR모형: AR(p)\n",
    "\n",
    "$$ Y_t = \\phi_1 Y_{t-1}  + \\phi_2 Y_{t-2}  + \\cdots + \\phi_p Y_{t-p}  + e_t $$\n",
    "\n",
    "![](figure/ar.png)\n",
    "\n",
    "이 모형이 선형확률과정을 따르는 것은 아래와 같이 증명 할 수 있다.   \n",
    "\n",
    "\n",
    "$$\n",
    "\\begin{eqnarray}\n",
    "Y_t \n",
    "&=& \\phi Y_{t-1} + e_t \\\\\n",
    "&=& \\phi \\left( \\phi Y_{t-2} + e_{t-1} \\right) + e_t \\\\\n",
    "&=& \\phi^2 Y_{t-2} + \\phi e_{t-1} + e_t \\\\\n",
    "&=& \\phi^2  \\left( \\phi Y_{t-3} + e_{t-2} \\right)  + \\phi e_{t-1} + e_t \\\\\n",
    "&=& \\phi^3 Y_{t-3} + \\phi^2 e_{t-2}  + \\phi e_{t-1} + e_t \\\\\n",
    "&\\vdots& \\\\\n",
    "&=& e_t + \\phi e_{t-1} + \\phi^2 e_{t-2} + \\phi^3 e_{t-3} + \\cdots  \\\\\n",
    "\\end{eqnarray}\n",
    "$$\n",
    "\n",
    "- **ARMA (Auto-Regressive Moving Average) 모형**: ARMA(p,q) 모형은 AR(p) 모형과 MA(q) 모형의 특징을 모두 가지는 모형을 말함.  \n",
    "\n",
    "$$ Y_t = \\phi_1 Y_{t-1} + \\phi_2 Y_{t-2} + \\cdots + \\phi_p Y_{t-p} + e_t - \\theta_1 e_{t-1} - \\theta_2 e_{t-2} \\cdots  - \\theta_q e_{t-q} $$\n",
    "\n",
    "\n",
    "** c. 비정상과정확률모형 -  ARIMA **\n",
    "\n",
    " 비정상 과정 모형 중 가장 대표적인 모형으로,  ARMA 모형을 누적한 모형이다. 시계열  $Y_{t}$ 을 차분한 결과로 만들어진 시계열 $\\nabla Y_t = Y_t - Y_{t-1}$  이 ARMA 모형을 따르면 원래의 시계열 $Y_{t}$ 를 ARIMA(Autoregressive Integrated Moving Average) 모형이라고 한다.\n",
    "\n",
    "만약  $d$ 번 차분한 후에야 시계열  $\\nabla Y_t$ 가 ARMA(p,q) 모형을 따른다면 적분 차수(order of integration)가  $d$ 인 ARIMA 모형으로 ARIMA(p, d, q)로 표기한다.  $q=0$ 인 경우에는 ARI(p,d), $p=0$ 인 경우에는 IMA(d,q)로 표기한다.\n",
    "\n",
    "\n",
    "### ARIMA 모형 차수 결정  \n",
    "\n",
    "앞서 설명한 ARIMA의 p, d, q 모형차수는 아래와 같은 방법으로 결정 할 수 있다. [(상세참조)](https://www.datascienceschool.net/view-notebook/b39ccd2da3e64d6e91981e23e01816c4/) \n",
    "\n",
    "- **Augmented Dickey-Fuller 검정** : d\n",
    "- **자기상관계수 함수(ACF)**: q\n",
    "- **편자기상관계수 함수(PACF)** : p"
   ]
  },
  {
   "cell_type": "markdown",
   "metadata": {},
   "source": [
    "| 모형        | ACF  | PACF  |\n",
    "| :-------: |:-------------:| :-------------:|\n",
    "| AR(p)| 지수함수적으로 감소하거나 점차 진폭이 축소되는 사인 곡선의 파동을 나타내거나 또는 양쪽모두 나타남 (시차가 증가함에 따라0 으로 급속히 접근) |p 의 시차까지 유의성 있는 값을 나타내고 이후 소멸함|\n",
    "| MA(q)| q 의 시차까지 유의성 있는 값을 나타내고 이후 소멸함 | 지수함수적으로 감소하거나 점차진폭이 축소되는 사인 곡선의 파동을 나타내거나 또는 양쪽 모두 나타남 (시차가 증가함에 따라 0 으로급속히접근)|\n",
    "| ARMA(p,q)| 지수함수적으로 감소하거나 점차 진폭이 축소되는 사인 곡선의 파동을 나타내거나 또는 양쪽 모두 나타남 (시차가 증가함에 따라 0 으로 급속히 접근) | 지수함수적으로 감소하거나 점차 진폭이 축소되는 사인 곡선의 파동을 나타내거나 또는 양쪽 모두 나타남 (시차가 증가함에 따라 0 으로 급속히 접근) |\n",
    "![](figure/parameter.png)\n",
    "![ARIMA](figure/ARIMA.png)\n"
   ]
  },
  {
   "cell_type": "markdown",
   "metadata": {},
   "source": [
    "본 분석에서는 연단위(12개월) 차이로 정상화 시켜서, Seasonal ARIMA 모델로 분류됨.  \n",
    "> Seasonal ARIMA 모형은 줄여서 SARIMA라고 하기도 한다. 단순 SARIMA 모형은 각 계절에 따른 독립적인 ARIMA 모형이 합쳐져 있는 모형이다. 기존 ARIMA(p,d,q) 모형에 계절성 주기를 나타내는 차수 s가 추가적으로 필요하기 때문에 SARIMA(P,D,Q,s) 로 표기한다.  \n",
    "s의 값은 월별 계절성을 나타낼 때는  $s=12$ 가 되고 분기별 계절성을 나타낼 때는  $s=4$ 가 된다"
   ]
  },
  {
   "cell_type": "code",
   "execution_count": null,
   "metadata": {
    "collapsed": false
   },
   "outputs": [],
   "source": [
    "fig = plt.figure(figsize=(12,8))\n",
    "ax1 = fig.add_subplot(211)\n",
    "fig = sm.graphics.tsa.plot_acf(df.seasonal_first_difference.iloc[13:], lags=40, ax=ax1)\n",
    "ax2 = fig.add_subplot(212)\n",
    "fig = sm.graphics.tsa.plot_pacf(df.seasonal_first_difference.iloc[13:],lags=40,ax=ax2) "
   ]
  },
  {
   "cell_type": "markdown",
   "metadata": {},
   "source": [
    "위 그래프에서, 1차 차분한 값(first_diff)이 t+1..t+12까지 AR(0), MR(0), d=1.  \n",
    "\n",
    "12번째에서 +->- SAR(1), SMA(1)\n",
    "\n",
    "최종적으로 **SARIMA (0,1,0)X(1,1,1,12) **  \n",
    "\n",
    "SARIMA 모형추정 [예시](https://www.datascienceschool.net/view-notebook/602e62fc1c544ffcb43c2c7e1484dc14/)"
   ]
  },
  {
   "cell_type": "markdown",
   "metadata": {},
   "source": [
    "### 2.4 모델 수립  \n",
    "위 단계에서 확정한 모델의 모형차수를 이용하여, (Seasonal) ARIMA 모델을 생성한다"
   ]
  },
  {
   "cell_type": "code",
   "execution_count": null,
   "metadata": {
    "collapsed": false
   },
   "outputs": [],
   "source": [
    "mod = sm.tsa.SARIMAX(df['ridership'],order=(0,1,0), seasonal_order=(1,1,1,12))\n",
    "results = mod.fit()\n",
    "print (results.summary())\n",
    "\n",
    "# import statsmodels.api as sm  \n",
    "# mod = sm.tsa.statespace.SARIMAX(df['ridership'], trend='n', order=(0,1,0), seasonal_order=(0,1,1,12))\n",
    "# results = mod.fit()"
   ]
  },
  {
   "cell_type": "markdown",
   "metadata": {},
   "source": [
    "## 평가\n",
    "모형이 훌륭하다면 이 값은 더이상 예측할 수 있는 요소가 전혀 없는 시계열 즉, 가우시안 백색 잡음에 가까운 특성을 보여야 한다.  \n",
    "백색잡음: 백색 잡음  $e$ 은 확률 과정을 구성하는 모든 개별 확률 변수  $e_{t}$ 들이 서로 독립이고(independent) 동일한 확률 분포를 따르는(identically distributed) 확률 과정을 말한다. \n",
    "\n",
    "백색 잡음은 다음과 같은 특성을 만족한다.\n",
    "\n",
    "- 정상 과정(stictly stationary process)이다.\n",
    "\n",
    "- 시차(lag)가 0일 경우, 자기공분산은 확률 분포의 분산이 되고 시차가 0이 아닌 경우, 자기공분산은 0이다.  \n",
    "\n",
    "$$\\gamma_l = \\begin{cases} \\text{Var}[e_t] & \\;\\; \\text{ for } l = 0 \\\\  0 & \\;\\; \\text{ for }  l \\neq 0 \\end{cases}$$\n",
    "\n",
    "- 시차(lag)가 0일 경우, 자기상관계수는 1이 되고 시차가 0이 아닌 경우, 자기상관계수는 0이다.  \n",
    "\n",
    "$$\\rho_l = \\begin{cases} 1 & \\;\\; \\text{ for } l = 0 \\\\  0 & \\;\\; \\text{ for }  l \\neq 0 \\end{cases}$$\n",
    " "
   ]
  },
  {
   "cell_type": "code",
   "execution_count": null,
   "metadata": {
    "collapsed": false
   },
   "outputs": [],
   "source": [
    "results.plot_diagnostics();\n",
    "plt.tight_layout(pad=0.4, w_pad=0.5, h_pad=1.0);"
   ]
  },
  {
   "cell_type": "markdown",
   "metadata": {
    "collapsed": true
   },
   "source": [
    "### 2.5  시계열 예측"
   ]
  },
  {
   "cell_type": "code",
   "execution_count": null,
   "metadata": {
    "collapsed": false
   },
   "outputs": [],
   "source": [
    "df['forecast'] = results.predict(start = len(df)-12, end= len(df), dynamic= True)  \n",
    "df[['ridership', 'forecast']].plot()\n",
    "df[-12:]"
   ]
  },
  {
   "cell_type": "markdown",
   "metadata": {},
   "source": [
    "예측 기간이 길어질수록 부정확해 질 수 있음 (아래, 24개월)"
   ]
  },
  {
   "cell_type": "code",
   "execution_count": null,
   "metadata": {
    "collapsed": false
   },
   "outputs": [],
   "source": [
    "df['forecast'] = results.predict(start = len(df)-24, end= len(df), dynamic= True)  \n",
    "df[['ridership', 'forecast']].plot()"
   ]
  },
  {
   "cell_type": "code",
   "execution_count": null,
   "metadata": {
    "collapsed": false
   },
   "outputs": [],
   "source": [
    "start = datetime.datetime.strptime(\"1969-07-01\", \"%Y-%m-%d\") \n",
    "# >1982-07-01 00:00:00\n",
    "date_list = [start + relativedelta(months=x) for x in range(0,12)]\n",
    "#> 1982/7/1,8/1, ... 1983/6/1\n",
    "\n",
    "future_df = pd.DataFrame(index=date_list, columns= df.columns)\n",
    "new_df = pd.concat([df, future_df]) #concatenated  dataframe\n",
    "# print(new_df.head(),'\\n...\\n',new_df.tail())"
   ]
  },
  {
   "cell_type": "code",
   "execution_count": null,
   "metadata": {
    "collapsed": false
   },
   "outputs": [],
   "source": [
    "new_df['forecast'] = results.predict(start = len(df), end = len(df)+11, dynamic= True)  \n",
    "new_df[['ridership', 'forecast']].ix[-48:].plot() "
   ]
  },
  {
   "cell_type": "code",
   "execution_count": null,
   "metadata": {
    "collapsed": false
   },
   "outputs": [],
   "source": [
    "print (df.forecast[-12:])"
   ]
  },
  {
   "cell_type": "markdown",
   "metadata": {},
   "source": [
    "## Further Study\n",
    "- [Seasonal ARIMA 다른 예제](https://www.datascienceschool.net/view-notebook/8c4f6ad9487149ca872374bbbf098e5f/)\n",
    "- [ARIMAX](https://www.datascienceschool.net/view-notebook/3e70dc86adb841b58736522c491eb770/)\n",
    "- [LSTM을 이용한 시계열 추정](http://machinelearningmastery.com/time-series-prediction-lstm-recurrent-neural-networks-python-keras/)\n",
    "- anomaly detection 예제\n",
    "- [Bayesian Time Series Forecasting](http://multithreaded.stitchfix.com/blog/2016/04/21/forget-arima/)\n",
    "\n",
    "(End of Doc)"
   ]
  }
 ],
 "metadata": {
  "kernelspec": {
   "display_name": "Python 3",
   "language": "python",
   "name": "python3"
  },
  "language_info": {
   "codemirror_mode": {
    "name": "ipython",
    "version": 3
   },
   "file_extension": ".py",
   "mimetype": "text/x-python",
   "name": "python",
   "nbconvert_exporter": "python",
   "pygments_lexer": "ipython3",
   "version": "3.5.2"
  }
 },
 "nbformat": 4,
 "nbformat_minor": 0
}
